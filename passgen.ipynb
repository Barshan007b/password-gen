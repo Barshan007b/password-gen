{
 "cells": [
  {
   "cell_type": "code",
   "execution_count": 5,
   "id": "002e1867-d829-4a4c-8d6b-a97f13f85a42",
   "metadata": {},
   "outputs": [
    {
     "name": "stdin",
     "output_type": "stream",
     "text": [
      "Enter the password length:\n",
      " 10\n"
     ]
    },
    {
     "name": "stdout",
     "output_type": "stream",
     "text": [
      "Generated Password: 'Pj+3q0)N#\n"
     ]
    }
   ],
   "source": [
    "import string\n",
    "import random\n",
    "\n",
    "def gen():\n",
    "    \"\"\"\n",
    "    Password Generator Function\n",
    "    ---------------------------\n",
    "    Generates a random, secure password that always contains:\n",
    "      - At least one uppercase letter\n",
    "      - At least one lowercase letter\n",
    "      - At least one digit\n",
    "      - At least one special character (punctuation)\n",
    "\n",
    "    Then it fills the rest of the password with a random mix of all character types.\n",
    "\n",
    "    Steps:\n",
    "    1. Ask user for password length.\n",
    "    2. Pick one character from each category (uppercase, lowercase, digit, special).\n",
    "    3. Fill the remaining length with random characters from all categories.\n",
    "    4. Shuffle the list to avoid predictable order.\n",
    "    5. Join the list into a final password string and display it.\n",
    "    \"\"\"\n",
    "\n",
    "    # Define character sets\n",
    "    s1 = string.ascii_uppercase   # 'A'–'Z'\n",
    "    s2 = string.ascii_lowercase   # 'a'–'z'\n",
    "    s3 = string.digits            # '0'–'9'\n",
    "    s4 = string.punctuation       # Special symbols like !, @, #\n",
    "\n",
    "    # Ask the user for the desired password length\n",
    "    passlen = int(input(\"Enter the password length:\\n\"))\n",
    "\n",
    "    # Ensure password has at least one character from each category\n",
    "    password = [\n",
    "        random.choice(s1),  # One uppercase\n",
    "        random.choice(s2),  # One lowercase\n",
    "        random.choice(s3),  # One digit\n",
    "        random.choice(s4)   # One special character\n",
    "    ]\n",
    "\n",
    "    # Fill the rest of the password with random characters from all sets combined\n",
    "    all_chars = s1 + s2 + s3 + s4\n",
    "    password += random.choices(all_chars, k=passlen - 4)\n",
    "\n",
    "    # Shuffle to avoid predictable placement of mandatory characters\n",
    "    random.shuffle(password)\n",
    "\n",
    "    # Convert list to string and display final password\n",
    "    print(\"Generated Password:\", \"\".join(password))\n",
    "\n",
    "\n",
    "# Run the function\n",
    "gen()\n",
    "\n",
    "    "
   ]
  },
  {
   "cell_type": "code",
   "execution_count": null,
   "id": "e08932d0-0b47-42aa-8eee-f5087bf9d5ac",
   "metadata": {},
   "outputs": [],
   "source": []
  }
 ],
 "metadata": {
  "kernelspec": {
   "display_name": "Python [conda env:base] *",
   "language": "python",
   "name": "conda-base-py"
  },
  "language_info": {
   "codemirror_mode": {
    "name": "ipython",
    "version": 3
   },
   "file_extension": ".py",
   "mimetype": "text/x-python",
   "name": "python",
   "nbconvert_exporter": "python",
   "pygments_lexer": "ipython3",
   "version": "3.12.7"
  }
 },
 "nbformat": 4,
 "nbformat_minor": 5
}
